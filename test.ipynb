{
 "cells": [
  {
   "cell_type": "code",
   "execution_count": 9,
   "metadata": {},
   "outputs": [],
   "source": [
    "import pyttsx3\n",
    "\n",
    "engine = pyttsx3.init()\n",
    "engine.setProperty('rate', 180)\n",
    "engine.say('您好，我是智能汽车辅助系统，您被绑定的驾驶员疑似发生酒后驾驶行为，请及时确认')\n",
    "engine.runAndWait()\n",
    "\n",
    "engine.save_to_file('您好，我是智能汽车辅助系统，您被绑定的驾驶员疑似发生酒后驾驶行为，请及时确认', 'test1.mp3')"
   ]
  },
  {
   "cell_type": "code",
   "execution_count": 1,
   "metadata": {},
   "outputs": [],
   "source": [
    "import serial\n",
    "import serial.tools.list_ports\n",
    "import re\n",
    "from paho.mqtt import client as mqtt_client\n",
    "import pyttsx3\n",
    "\n",
    "LAST_STATUS = False\n",
    "LAST_DATA = 0\n",
    "\n",
    "\n",
    "class Contral:\n",
    "    def __init__(self):\n",
    "        self.ser = serial.Serial(\n",
    "            Contral.findPort(), timeout=1, baudrate=115200)\n",
    "        self.client_id = 'contral_client'\n",
    "        self.broker = '119.91.198.5'\n",
    "        self.port = 1883\n",
    "        self.client = self.connect_mqtt()\n",
    "        self.topic = '/call'\n",
    "        self.engine = pyttsx3.init()\n",
    "        self.engine.setProperty('rate', 180)\n",
    "        self.dangerVoice = '喝酒不开车，开车不喝酒。'\n",
    "        if self.is_open():\n",
    "            print('Serial port is open')\n",
    "            self.run()\n",
    "        else:\n",
    "            print('Serial port is not open')\n",
    "\n",
    "    def __del__(self):\n",
    "        self.ser.close()\n",
    "        self.client.disconnect()\n",
    "\n",
    "    def publish(self):\n",
    "        message = '{\"contacts\":\"18273623931\"}'\n",
    "        self.client.publish(self.topic, message)\n",
    "\n",
    "    def connect_mqtt(self):\n",
    "        def on_connect(client, userdata, flags, rc):\n",
    "            if rc == 0:\n",
    "                print(\"Connected to MQTT Broker!\")\n",
    "            else:\n",
    "                print(\"Failed to connect, return code %d\\n\", rc)\n",
    "\n",
    "        client = mqtt_client.Client(self.client_id)\n",
    "        client.on_connect = on_connect\n",
    "        client.connect(self.broker, self.port)\n",
    "        return client\n",
    "\n",
    "    def is_open(self):\n",
    "        return self.ser.is_open\n",
    "\n",
    "    def run(self):\n",
    "        while True:\n",
    "            line = self.ser.readline()\n",
    "            if line:\n",
    "                line.decode('ascii', 'ignore')\n",
    "                line = str(line, 'utf-8')\n",
    "                line = line.replace('\\r\\n', '')\n",
    "                data = line[line.find(':') + 1:]\n",
    "                expression = ''.join(re.findall(r'[A-Za-z]', line))\n",
    "                if expression == 'alcohol':\n",
    "                    print('alcohol-->', float(data))\n",
    "                    if float(\n",
    "                            data\n",
    "                    ) > 200 and LAST_STATUS is False and LAST_DATA < float(\n",
    "                            data):\n",
    "                        LAST_STATUS = True\n",
    "                        LAST_DATA = float(data)\n",
    "                        self.engine.say(self.dangerVoice)\n",
    "                        self.engine.runAndWait()\n",
    "                        self.publish()\n",
    "                        print('publish')\n",
    "                    elif float(data) < 200:\n",
    "                        LAST_STATUS = False\n",
    "                        LAST_DATA = float(data)\n",
    "                    elif float(data) == LAST_DATA:\n",
    "                        pass\n",
    "                    else:\n",
    "                        LAST_DATA = float(data)\n",
    "\n",
    "    def findPort():\n",
    "        ports = serial.tools.list_ports.comports()\n",
    "        for each in ports:\n",
    "            print(each.description)\n",
    "            if 'CP210x USB to UART' in each.description:\n",
    "                return each.device\n"
   ]
  },
  {
   "cell_type": "code",
   "execution_count": 2,
   "metadata": {},
   "outputs": [
    {
     "name": "stdout",
     "output_type": "stream",
     "text": [
      "Silicon Labs CP210x USB to UART Bridge (COM11)\n"
     ]
    },
    {
     "name": "stderr",
     "output_type": "stream",
     "text": [
      "D:\\Softwares\\Miniconda3\\envs\\deeplearning\\lib\\site-packages\\numpy\\_distributor_init.py:30: UserWarning: loaded more than 1 DLL from .libs:\n",
      "D:\\Softwares\\Miniconda3\\envs\\deeplearning\\lib\\site-packages\\numpy\\.libs\\libopenblas.EL2C6PLE4ZYW3ECEVIV3OXXGRN2NRFM2.gfortran-win_amd64.dll\n",
      "D:\\Softwares\\Miniconda3\\envs\\deeplearning\\lib\\site-packages\\numpy\\.libs\\libopenblas.QVLO2T66WEPI7JZ63PS3HMOHFEY472BC.gfortran-win_amd64.dll\n",
      "  warnings.warn(\"loaded more than 1 DLL from .libs:\"\n"
     ]
    },
    {
     "name": "stdout",
     "output_type": "stream",
     "text": [
      "alcohol--> 0.0\n",
      "alcohol--> 0.0\n",
      "alcohol--> 0.0\n",
      "alcohol--> 33.0\n",
      "alcohol--> 97.0\n",
      "alcohol--> 160.0\n",
      "alcohol--> 224.0\n",
      "alcohol--> 288.0\n",
      "alcohol--> 347.0\n",
      "alcohol--> 400.0\n",
      "alcohol--> 400.0\n",
      "alcohol--> 400.0\n",
      "alcohol--> 400.0\n",
      "alcohol--> 400.0\n",
      "alcohol--> 395.0\n",
      "alcohol--> 331.0\n",
      "alcohol--> 267.0\n",
      "alcohol--> 208.0\n",
      "alcohol--> 144.0\n",
      "alcohol--> 80.0\n",
      "alcohol--> 17.0\n",
      "alcohol--> 0.0\n",
      "alcohol--> 0.0\n",
      "alcohol--> 0.0\n",
      "alcohol--> 0.0\n",
      "alcohol--> 0.0\n"
     ]
    }
   ],
   "source": [
    "con = Contral()"
   ]
  }
 ],
 "metadata": {
  "kernelspec": {
   "display_name": "Python 3.9.12 ('deeplearning')",
   "language": "python",
   "name": "python3"
  },
  "language_info": {
   "codemirror_mode": {
    "name": "ipython",
    "version": 3
   },
   "file_extension": ".py",
   "mimetype": "text/x-python",
   "name": "python",
   "nbconvert_exporter": "python",
   "pygments_lexer": "ipython3",
   "version": "3.9.12"
  },
  "orig_nbformat": 4,
  "vscode": {
   "interpreter": {
    "hash": "60a5f2f6f0a18c7133d237a6e89842b975ec8f80a9896a843bfcb824e40c8026"
   }
  }
 },
 "nbformat": 4,
 "nbformat_minor": 2
}
