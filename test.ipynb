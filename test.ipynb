{
 "cells": [
  {
   "cell_type": "code",
   "execution_count": 12,
   "metadata": {},
   "outputs": [
    {
     "data": {
      "text/plain": [
       "'d:\\\\Files\\\\Codefield\\\\Code_51\\\\callphone\\\\render.html'"
      ]
     },
     "execution_count": 12,
     "metadata": {},
     "output_type": "execute_result"
    }
   ],
   "source": [
    "from pyecharts.charts import Line\n",
    "from pyecharts import options as opts\n",
    "\n",
    "# 示例数据\n",
    "\n",
    "data1 = [123, 153, 89, 107, 98, 23]\n",
    "\"\"\"\n",
    "折线图示例:\n",
    "1. is_smooth 折线 OR 平滑\n",
    "2. markline_opts 标记线 OR 标记点\n",
    "\"\"\"\n",
    "line = (\n",
    "    Line()\n",
    "    .add_xaxis(cate)\n",
    "    .add_yaxis(\n",
    "        \"酒精浓度水平\",\n",
    "        data1,\n",
    "        markline_opts=opts.MarkLineOpts(data=[opts.MarkLineItem(type_=\"average\")]),\n",
    "    )\n",
    "    .set_global_opts(title_opts=opts.TitleOpts(title=\"酒精检测折线图\"))\n",
    ")\n",
    "\n",
    "line.render()"
   ]
  }
 ],
 "metadata": {
  "kernelspec": {
   "display_name": "Python 3.9.12 ('deeplearning')",
   "language": "python",
   "name": "python3"
  },
  "language_info": {
   "codemirror_mode": {
    "name": "ipython",
    "version": 3
   },
   "file_extension": ".py",
   "mimetype": "text/x-python",
   "name": "python",
   "nbconvert_exporter": "python",
   "pygments_lexer": "ipython3",
   "version": "3.9.12"
  },
  "orig_nbformat": 4,
  "vscode": {
   "interpreter": {
    "hash": "60a5f2f6f0a18c7133d237a6e89842b975ec8f80a9896a843bfcb824e40c8026"
   }
  }
 },
 "nbformat": 4,
 "nbformat_minor": 2
}
